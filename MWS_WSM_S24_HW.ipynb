{
  "nbformat": 4,
  "nbformat_minor": 0,
  "metadata": {
    "colab": {
      "provenance": [],
      "authorship_tag": "ABX9TyM2wongVRq+H7wkFAqSv8ex",
      "include_colab_link": true
    },
    "kernelspec": {
      "name": "python3",
      "display_name": "Python 3"
    },
    "language_info": {
      "name": "python"
    }
  },
  "cells": [
    {
      "cell_type": "markdown",
      "metadata": {
        "id": "view-in-github",
        "colab_type": "text"
      },
      "source": [
        "<a href=\"https://colab.research.google.com/github/Areej-Ah/Library-Ontology/blob/main/MWS_WSM_S24_HW.ipynb\" target=\"_parent\"><img src=\"https://colab.research.google.com/assets/colab-badge.svg\" alt=\"Open In Colab\"/></a>"
      ]
    },
    {
      "cell_type": "code",
      "execution_count": null,
      "metadata": {
        "colab": {
          "base_uri": "https://localhost:8080/"
        },
        "id": "Vxysnkv0KCHQ",
        "outputId": "94dc8b1c-54f4-45c8-c745-58630bb3e33c"
      },
      "outputs": [
        {
          "output_type": "stream",
          "name": "stdout",
          "text": [
            "Collecting rdflib\n",
            "  Downloading rdflib-7.1.1-py3-none-any.whl.metadata (11 kB)\n",
            "Collecting isodate<1.0.0,>=0.7.2 (from rdflib)\n",
            "  Downloading isodate-0.7.2-py3-none-any.whl.metadata (11 kB)\n",
            "Requirement already satisfied: pyparsing<4,>=2.1.0 in /usr/local/lib/python3.10/dist-packages (from rdflib) (3.2.0)\n",
            "Downloading rdflib-7.1.1-py3-none-any.whl (562 kB)\n",
            "\u001b[2K   \u001b[90m━━━━━━━━━━━━━━━━━━━━━━━━━━━━━━━━━━━━━━━━\u001b[0m \u001b[32m562.4/562.4 kB\u001b[0m \u001b[31m7.3 MB/s\u001b[0m eta \u001b[36m0:00:00\u001b[0m\n",
            "\u001b[?25hDownloading isodate-0.7.2-py3-none-any.whl (22 kB)\n",
            "Installing collected packages: isodate, rdflib\n",
            "Successfully installed isodate-0.7.2 rdflib-7.1.1\n"
          ]
        }
      ],
      "source": [
        "!pip install rdflib"
      ]
    },
    {
      "cell_type": "code",
      "source": [
        "import rdflib"
      ],
      "metadata": {
        "id": "Z8e7TIhnKNCM"
      },
      "execution_count": null,
      "outputs": []
    },
    {
      "cell_type": "code",
      "source": [
        "g = rdflib.Graph()\n",
        "g.parse(\"Library.rdf\", format=\"xml\")"
      ],
      "metadata": {
        "colab": {
          "base_uri": "https://localhost:8080/"
        },
        "id": "xusTgzybKRPy",
        "outputId": "0f0bccd0-2550-401e-be91-5370ac89e554"
      },
      "execution_count": null,
      "outputs": [
        {
          "output_type": "execute_result",
          "data": {
            "text/plain": [
              "<Graph identifier=N46f2997860fd49b9890d191c1f58cf15 (<class 'rdflib.graph.Graph'>)>"
            ]
          },
          "metadata": {},
          "execution_count": 3
        }
      ]
    },
    {
      "cell_type": "code",
      "source": [
        "print(f\"Number of triples in the graph: {len(g)}\")"
      ],
      "metadata": {
        "colab": {
          "base_uri": "https://localhost:8080/"
        },
        "id": "2Jta5hXUKa0S",
        "outputId": "69f1ce40-3f3b-4faf-b95c-6b9000d56b11"
      },
      "execution_count": null,
      "outputs": [
        {
          "output_type": "stream",
          "name": "stdout",
          "text": [
            "Number of triples in the graph: 194\n"
          ]
        }
      ]
    },
    {
      "cell_type": "code",
      "source": [
        "query1 = \"\"\"\n",
        "PREFIX : <http://www.semanticweb.org/areej/ontologies/2024/10/Library-ontology-6#>\n",
        "\n",
        "SELECT ?book (AVG(?rating) AS ?avgRating) ?year\n",
        "WHERE {\n",
        "    ?book rdf:type :Book .\n",
        "    ?book :publishedInYear ?year .\n",
        "    ?book :hasReview ?review .\n",
        "    ?review :hasRating ?rating .\n",
        "\n",
        "    FILTER(?year >= 2000 && ?year <= 2020)\n",
        "}\n",
        "GROUP BY ?book ?year\n",
        "ORDER BY DESC(?avgRating)\n",
        "\"\"\"\n",
        "\n",
        "results1 = g.query(query1)\n",
        "print(\"Books in year range(2000-2020), ordered by average rating:\")\n",
        "for row in results1:\n",
        "    print(f\"Book: {row.book}, Year: {row.year}, Average Rating: {row.avgRating}\")"
      ],
      "metadata": {
        "colab": {
          "base_uri": "https://localhost:8080/"
        },
        "id": "FG0J2sdAKfAm",
        "outputId": "7d51c6d1-ff69-474e-f111-1019be664cff"
      },
      "execution_count": null,
      "outputs": [
        {
          "output_type": "stream",
          "name": "stdout",
          "text": [
            "Books in year range(2000-2020), ordered by average rating:\n",
            "Book: http://www.semanticweb.org/areej/ontologies/2024/10/Library-ontology-6#Book1, Year: 2002, Average Rating: 4.5\n",
            "Book: http://www.semanticweb.org/areej/ontologies/2024/10/Library-ontology-6#Book3, Year: 2014, Average Rating: 4.0\n",
            "Book: http://www.semanticweb.org/areej/ontologies/2024/10/Library-ontology-6#Book2, Year: 2012, Average Rating: 3.35\n"
          ]
        }
      ]
    },
    {
      "cell_type": "code",
      "source": [
        "query2 = \"\"\"\n",
        "PREFIX : <http://www.semanticweb.org/areej/ontologies/2024/10/Library-ontology-6#>\n",
        "\n",
        "SELECT ?author (SUM(?rating) AS ?totalRating)\n",
        "WHERE {\n",
        "    ?book rdf:type :Book .\n",
        "    ?book :writtenBy ?author .\n",
        "    ?book :hasReview ?review .\n",
        "    ?review :hasRating ?rating .\n",
        "}\n",
        "GROUP BY ?author\n",
        "ORDER BY DESC(?totalRating)\n",
        "\"\"\"\n",
        "\n",
        "results2 = g.query(query2)\n",
        "print(\"Author(s) with the highest total review ratings:\")\n",
        "for row in results2:\n",
        "    print(f\"Author: {row.author}, Total Rating: {row.totalRating}\")"
      ],
      "metadata": {
        "colab": {
          "base_uri": "https://localhost:8080/"
        },
        "id": "y1bdTaldOJhI",
        "outputId": "51e18257-8f2a-4549-cd22-15c38693ce55"
      },
      "execution_count": null,
      "outputs": [
        {
          "output_type": "stream",
          "name": "stdout",
          "text": [
            "Author(s) with the highest total review ratings:\n",
            "Author: http://www.semanticweb.org/areej/ontologies/2024/10/Library-ontology-6#Author1, Total Rating: 17.5\n",
            "Author: http://www.semanticweb.org/areej/ontologies/2024/10/Library-ontology-6#Author2, Total Rating: 6.7\n"
          ]
        }
      ]
    },
    {
      "cell_type": "code",
      "source": [
        "query3 = \"\"\"\n",
        "PREFIX : <http://www.semanticweb.org/areej/ontologies/2024/10/Library-ontology-6#>\n",
        "\n",
        "SELECT ?publisher (AVG(?rating) AS ?avgRating)\n",
        "WHERE {\n",
        "    ?book rdf:type :Book .\n",
        "    ?book :publishedBy ?publisher .\n",
        "    ?book :hasReview ?review .\n",
        "    ?review :hasRating ?rating .\n",
        "}\n",
        "GROUP BY ?publisher\n",
        "ORDER BY DESC(?avgRating)\n",
        "\"\"\"\n",
        "\n",
        "results3 = g.query(query3)\n",
        "print(\"Publishers and their average book ratings, sorted by rating:\")\n",
        "for row in results3:\n",
        "    print(f\"Publisher: {row.publisher}, Average Rating: {row.avgRating}\")"
      ],
      "metadata": {
        "colab": {
          "base_uri": "https://localhost:8080/"
        },
        "id": "VQklTEqpRr7w",
        "outputId": "0c60be83-6842-4572-cabc-4149a97d04b5"
      },
      "execution_count": null,
      "outputs": [
        {
          "output_type": "stream",
          "name": "stdout",
          "text": [
            "Publishers and their average book ratings, sorted by rating:\n",
            "Publisher: http://www.semanticweb.org/areej/ontologies/2024/10/Library-ontology-6#Publisher1, Average Rating: 4.5\n",
            "Publisher: http://www.semanticweb.org/areej/ontologies/2024/10/Library-ontology-6#Publisher3, Average Rating: 4.0\n",
            "Publisher: http://www.semanticweb.org/areej/ontologies/2024/10/Library-ontology-6#Publisher2, Average Rating: 3.35\n"
          ]
        }
      ]
    },
    {
      "cell_type": "code",
      "source": [
        "query_genres = \"\"\"\n",
        "PREFIX : <http://www.semanticweb.org/areej/ontologies/2024/10/Library-ontology-6#>\n",
        "\n",
        "SELECT ?genre (AVG(?rating) AS ?avgRating)\n",
        "WHERE {\n",
        "    ?book rdf:type :Book .\n",
        "    ?book :belongsToGenre ?genre .\n",
        "    ?book :hasReview ?review .\n",
        "    ?review :hasRating ?rating .\n",
        "}\n",
        "GROUP BY ?genre\n",
        "ORDER BY DESC(?avgRating)\n",
        "\"\"\"\n",
        "\n",
        "results_genres = g.query(query_genres)\n",
        "\n",
        "for row in results_genres:\n",
        "    print(f\"Genre: {row.genre}, Average Rating: {row.avgRating}\")"
      ],
      "metadata": {
        "colab": {
          "base_uri": "https://localhost:8080/"
        },
        "id": "p9iq_0q5SbYs",
        "outputId": "86ce8a80-43c7-4669-fa70-318212f70e8b"
      },
      "execution_count": null,
      "outputs": [
        {
          "output_type": "stream",
          "name": "stdout",
          "text": [
            "Genre: http://www.semanticweb.org/areej/ontologies/2024/10/Library-ontology-6#Genre1-1, Average Rating: 4.5\n",
            "Genre: http://www.semanticweb.org/areej/ontologies/2024/10/Library-ontology-6#Genre3-1, Average Rating: 4.0\n",
            "Genre: http://www.semanticweb.org/areej/ontologies/2024/10/Library-ontology-6#Genre2-1, Average Rating: 3.35\n"
          ]
        }
      ]
    },
    {
      "cell_type": "code",
      "source": [
        "query_authors_by_nationality = \"\"\"\n",
        "PREFIX : <http://www.semanticweb.org/areej/ontologies/2024/10/Library-ontology-6#>\n",
        "\n",
        "SELECT ?author ?nationality (AVG(?rating) AS ?avgRating)\n",
        "WHERE {\n",
        "    ?book rdf:type :Book .\n",
        "    ?book :writtenBy ?author .\n",
        "    ?author :hasNationality ?nationality .\n",
        "\n",
        "    # Optional part for rating to include authors with no ratings\n",
        "    OPTIONAL {\n",
        "        ?book :hasReview ?review .\n",
        "        ?review :hasRating ?rating .\n",
        "    }\n",
        "}\n",
        "GROUP BY ?author ?nationality\n",
        "ORDER BY DESC(?avgRating)\n",
        "\n",
        "\"\"\"\n",
        "\n",
        "results_authors_by_nationality = g.query(query_authors_by_nationality)\n",
        "\n",
        "for row in results_authors_by_nationality:\n",
        "    print(f\"Author: {row.author}, Nationality: {row.nationality}, Average Rating: {row.avgRating}\")"
      ],
      "metadata": {
        "colab": {
          "base_uri": "https://localhost:8080/"
        },
        "id": "Hh1VPBq2S7mn",
        "outputId": "8b2232e5-0096-4802-bfe0-bcb58325e446"
      },
      "execution_count": null,
      "outputs": [
        {
          "output_type": "stream",
          "name": "stdout",
          "text": [
            "Author: http://www.semanticweb.org/areej/ontologies/2024/10/Library-ontology-6#Author1, Nationality: British, Average Rating: 4.375\n",
            "Author: http://www.semanticweb.org/areej/ontologies/2024/10/Library-ontology-6#Author2, Nationality: British, Average Rating: 3.35\n",
            "Author: http://www.semanticweb.org/areej/ontologies/2024/10/Library-ontology-6#Author3, Nationality: British, Average Rating: 0\n"
          ]
        }
      ]
    },
    {
      "cell_type": "code",
      "source": [
        "query_prolific_authors = \"\"\"\n",
        "PREFIX : <http://www.semanticweb.org/areej/ontologies/2024/10/Library-ontology-6#>\n",
        "\n",
        "SELECT ?decade ?author (COUNT(?book) AS ?bookCount)\n",
        "WHERE {\n",
        "    ?book rdf:type :Book .\n",
        "    ?book :writtenBy ?author .             # Linking book to author\n",
        "    ?book :publishedInYear ?year .         # Linking book to publication year\n",
        "    FILTER(?year >= 2000)                   # Filtering books published after 2000\n",
        "    BIND(FLOOR(?year / 10) * 10 AS ?decade)  # Grouping by decade (for example: 2000s, 2000s)\n",
        "}\n",
        "GROUP BY ?decade ?author\n",
        "ORDER BY DESC(?bookCount)\n",
        "\"\"\"\n",
        "\n",
        "results_prolific_authors = g.query(query_prolific_authors)\n",
        "\n",
        "for row in results_prolific_authors:\n",
        "    print(f\"Decade: {row.decade}, Author: {row.author}, Books Published: {row.bookCount}\")"
      ],
      "metadata": {
        "colab": {
          "base_uri": "https://localhost:8080/"
        },
        "id": "8yv-JcU8Umxx",
        "outputId": "fdd536aa-c68a-4309-f462-7f0d096cc246"
      },
      "execution_count": null,
      "outputs": [
        {
          "output_type": "stream",
          "name": "stdout",
          "text": [
            "Decade: 2000, Author: http://www.semanticweb.org/areej/ontologies/2024/10/Library-ontology-6#Author1, Books Published: 2\n",
            "Decade: 2010, Author: http://www.semanticweb.org/areej/ontologies/2024/10/Library-ontology-6#Author2, Books Published: 2\n",
            "Decade: 2010, Author: http://www.semanticweb.org/areej/ontologies/2024/10/Library-ontology-6#Author1, Books Published: 1\n",
            "Decade: 2000, Author: http://www.semanticweb.org/areej/ontologies/2024/10/Library-ontology-6#Author3, Books Published: 1\n"
          ]
        }
      ]
    },
    {
      "cell_type": "code",
      "source": [
        "query_highest_rated_book = \"\"\"\n",
        "PREFIX : <http://www.semanticweb.org/areej/ontologies/2024/10/Library-ontology-6#>\n",
        "\n",
        "SELECT ?book ?author ?genre ?rating\n",
        "WHERE {\n",
        "    ?book rdf:type :Book .\n",
        "    ?book :writtenBy ?author .\n",
        "    ?book :belongsToGenre ?genre .\n",
        "    ?book :hasReview ?review .\n",
        "    ?review :hasRating ?rating .\n",
        "}\n",
        "ORDER BY DESC(?rating)\n",
        "LIMIT 1\n",
        "\"\"\"\n",
        "\n",
        "results_highest_rated_book = g.query(query_highest_rated_book)\n",
        "\n",
        "for row in results_highest_rated_book:\n",
        "    print(f\"Book: {row.book}, Author: {row.author}, Genre: {row.genre}, Rating: {row.rating}\")"
      ],
      "metadata": {
        "colab": {
          "base_uri": "https://localhost:8080/"
        },
        "id": "kVaJS8OYVrwN",
        "outputId": "9c867195-ecae-4d2c-9723-0b9627a39344"
      },
      "execution_count": null,
      "outputs": [
        {
          "output_type": "stream",
          "name": "stdout",
          "text": [
            "Book: http://www.semanticweb.org/areej/ontologies/2024/10/Library-ontology-6#Book1, Author: http://www.semanticweb.org/areej/ontologies/2024/10/Library-ontology-6#Author1, Genre: http://www.semanticweb.org/areej/ontologies/2024/10/Library-ontology-6#Genre1-1, Rating: 4.9\n"
          ]
        }
      ]
    },
    {
      "cell_type": "code",
      "source": [
        "query_avg_rating_per_decade = \"\"\"\n",
        "PREFIX : <http://www.semanticweb.org/areej/ontologies/2024/10/Library-ontology-6#>\n",
        "\n",
        "SELECT ?decade (AVG(?rating) AS ?avgRating)\n",
        "WHERE {\n",
        "    ?book rdf:type :Book .\n",
        "    ?book :publishedInYear ?year .\n",
        "    ?book :hasReview ?review .\n",
        "    ?review :hasRating ?rating .\n",
        "    FILTER(?year >= 2000)                    # Filter for books published from 2000 onward\n",
        "    BIND(FLOOR(?year / 10) * 10 AS ?decade)   # Group by decade\n",
        "}\n",
        "GROUP BY ?decade\n",
        "ORDER BY ?decade\n",
        "\"\"\"\n",
        "\n",
        "results_avg_rating_per_decade = g.query(query_avg_rating_per_decade)\n",
        "\n",
        "for row in results_avg_rating_per_decade:\n",
        "    print(f\"Decade: {row.decade}, Average Rating: {row.avgRating}\")"
      ],
      "metadata": {
        "colab": {
          "base_uri": "https://localhost:8080/"
        },
        "id": "FJGrzCkKV1pt",
        "outputId": "787513a1-0ba8-4cee-d53d-011f81dd0321"
      },
      "execution_count": null,
      "outputs": [
        {
          "output_type": "stream",
          "name": "stdout",
          "text": [
            "Decade: 2000, Average Rating: 4.5\n",
            "Decade: 2010, Average Rating: 3.566666666666666666666666667\n"
          ]
        }
      ]
    },
    {
      "cell_type": "code",
      "source": [
        "query_highest_rated_book_per_genre = \"\"\"\n",
        "PREFIX : <http://www.semanticweb.org/areej/ontologies/2024/10/Library-ontology-6#>\n",
        "\n",
        "SELECT ?genre ?book (MAX(?rating) AS ?maxRating)\n",
        "WHERE {\n",
        "    ?book rdf:type :Book .\n",
        "    ?book :belongsToGenre ?genre .\n",
        "    ?book :hasReview ?review .\n",
        "    ?review :hasRating ?rating .\n",
        "}\n",
        "GROUP BY ?genre\n",
        "ORDER BY ?genre\n",
        "\"\"\"\n",
        "\n",
        "results_highest_rated_book_per_genre = g.query(query_highest_rated_book_per_genre)\n",
        "\n",
        "for row in results_highest_rated_book_per_genre:\n",
        "    print(f\"Genre: {row.genre}, Book: {row.book}, Highest Rating: {row.maxRating}\")"
      ],
      "metadata": {
        "colab": {
          "base_uri": "https://localhost:8080/"
        },
        "id": "xmq_pnwyWkTW",
        "outputId": "95f73989-21f7-46f0-bee9-3f2273e77e8c"
      },
      "execution_count": null,
      "outputs": [
        {
          "output_type": "stream",
          "name": "stdout",
          "text": [
            "Genre: http://www.semanticweb.org/areej/ontologies/2024/10/Library-ontology-6#Genre1-1, Book: http://www.semanticweb.org/areej/ontologies/2024/10/Library-ontology-6#Book1, Highest Rating: 4.9\n",
            "Genre: http://www.semanticweb.org/areej/ontologies/2024/10/Library-ontology-6#Genre2-1, Book: http://www.semanticweb.org/areej/ontologies/2024/10/Library-ontology-6#Book2, Highest Rating: 3.5\n",
            "Genre: http://www.semanticweb.org/areej/ontologies/2024/10/Library-ontology-6#Genre3-1, Book: http://www.semanticweb.org/areej/ontologies/2024/10/Library-ontology-6#Book3, Highest Rating: 4.0\n"
          ]
        }
      ]
    },
    {
      "cell_type": "code",
      "source": [
        "!pip install owlready2"
      ],
      "metadata": {
        "colab": {
          "base_uri": "https://localhost:8080/"
        },
        "id": "cuBqsEnnY3yF",
        "outputId": "47135ac3-dc2a-43f3-c08a-102b058eb892"
      },
      "execution_count": null,
      "outputs": [
        {
          "output_type": "stream",
          "name": "stdout",
          "text": [
            "Collecting owlready2\n",
            "  Downloading owlready2-0.47.tar.gz (27.3 MB)\n",
            "\u001b[2K     \u001b[90m━━━━━━━━━━━━━━━━━━━━━━━━━━━━━━━━━━━━━━━━\u001b[0m \u001b[32m27.3/27.3 MB\u001b[0m \u001b[31m38.9 MB/s\u001b[0m eta \u001b[36m0:00:00\u001b[0m\n",
            "\u001b[?25h  Installing build dependencies ... \u001b[?25l\u001b[?25hdone\n",
            "  Getting requirements to build wheel ... \u001b[?25l\u001b[?25hdone\n",
            "  Preparing metadata (pyproject.toml) ... \u001b[?25l\u001b[?25hdone\n",
            "Building wheels for collected packages: owlready2\n",
            "  Building wheel for owlready2 (pyproject.toml) ... \u001b[?25l\u001b[?25hdone\n",
            "  Created wheel for owlready2: filename=owlready2-0.47-cp310-cp310-linux_x86_64.whl size=24075202 sha256=06df40fe7a89e2cc16a43bb30479bcce6a10d8a655edf321448b0436e6b8d8a2\n",
            "  Stored in directory: /root/.cache/pip/wheels/27/3e/ba/4171c4b10bba9fe1774fbf8fcf794de889e636ce64ad83a533\n",
            "Successfully built owlready2\n",
            "Installing collected packages: owlready2\n",
            "Successfully installed owlready2-0.47\n"
          ]
        }
      ]
    },
    {
      "cell_type": "code",
      "source": [
        "from owlready2 import *"
      ],
      "metadata": {
        "id": "0rlZqS0oZCgB"
      },
      "execution_count": null,
      "outputs": []
    },
    {
      "cell_type": "code",
      "source": [
        "# Load ontology\n",
        "onto = get_ontology(\"Library.rdf\").load()\n",
        "\n",
        "# Run reasoner\n",
        "with onto:\n",
        "    sync_reasoner()\n",
        "\n",
        "# Check for instances with inconsistencies\n",
        "for book in onto.Book.instances():\n",
        "    genres = list(book.belongsToGenre)\n",
        "    if len(genres) > 1:\n",
        "        print(f\"Book '{book}' belongs to multiple genres: {[genre.name for genre in genres]}\")"
      ],
      "metadata": {
        "colab": {
          "base_uri": "https://localhost:8080/"
        },
        "id": "BeH5jG13Ynpp",
        "outputId": "ecd2218c-bcbf-4d71-fc74-79063dd8f593"
      },
      "execution_count": null,
      "outputs": [
        {
          "output_type": "stream",
          "name": "stderr",
          "text": [
            "* Owlready2 * Running HermiT...\n",
            "    java -Xmx2000M -cp /usr/local/lib/python3.10/dist-packages/owlready2/hermit:/usr/local/lib/python3.10/dist-packages/owlready2/hermit/HermiT.jar org.semanticweb.HermiT.cli.CommandLine -c -O -D -I file:////tmp/tmpxj0snez6\n",
            "* Owlready2 * HermiT took 2.6505982875823975 seconds\n",
            "* Owlready * (NB: only changes on entities loaded in Python are shown, other changes are done but not listed)\n"
          ]
        }
      ]
    },
    {
      "cell_type": "code",
      "source": [
        "from rdflib import Namespace, URIRef\n",
        "\n",
        "NS = Namespace(\"http://www.semanticweb.org/areej/ontologies/2024/10/Library-ontology-6#\")\n",
        "g.bind(\"ns\", NS)"
      ],
      "metadata": {
        "id": "Zbkk9xJ4ZuDm"
      },
      "execution_count": null,
      "outputs": []
    },
    {
      "cell_type": "code",
      "source": [
        "def recommend_books_by_genre(user_id):\n",
        "    # Query the user's preferred genres\n",
        "    preferred_genre_query = \"\"\"\n",
        "    PREFIX ns: <http://www.semanticweb.org/areej/ontologies/2024/10/Library-ontology-6#>\n",
        "\n",
        "    SELECT ?genre\n",
        "    WHERE {\n",
        "        ?user ns:hasUserID \"\"\" + str(user_id) + \"\"\" .  # Ensure user_id is properly inserted\n",
        "        ?user ns:preferredGenre ?genre .\n",
        "    }\n",
        "    \"\"\"\n",
        "    preferred_genres = [str(row[0]) for row in g.query(preferred_genre_query)]\n",
        "\n",
        "    print(\"Preferred genres:\", preferred_genres)\n",
        "\n",
        "    # Query books in the preferred genres\n",
        "    book_query = \"\"\"\n",
        "    PREFIX ns:<http://www.semanticweb.org/areej/ontologies/2024/10/Library-ontology-6#>\n",
        "\n",
        "    SELECT ?book ?genre\n",
        "    WHERE {\n",
        "        ?book ns:belongsToGenre ?genre .\n",
        "        FILTER (?genre IN (\"\"\" + \", \".join(f\"<{genre}>\" for genre in preferred_genres) + \"\"\"))\n",
        "    }\n",
        "    \"\"\"\n",
        "    recommended_books = g.query(book_query)\n",
        "    return [(str(book[0]), str(book[1])) for book in recommended_books]"
      ],
      "metadata": {
        "id": "Wc4R2Ub5aaFk"
      },
      "execution_count": null,
      "outputs": []
    },
    {
      "cell_type": "code",
      "source": [
        "def recommend_highly_rated_books(user_id, rating_threshold=4.0):\n",
        "    # Convert user_id to string in the query\n",
        "    read_books_query = \"\"\"\n",
        "    PREFIX ns:<http://www.semanticweb.org/areej/ontologies/2024/10/Library-ontology-6#>\n",
        "\n",
        "    SELECT ?book\n",
        "    WHERE {\n",
        "        ?user ns:hasUserID \"\"\" + str(user_id) + \"\"\" .\n",
        "        ?user ns:hasRead ?book .\n",
        "    }\n",
        "    \"\"\"\n",
        "    read_books = {str(row[0]) for row in g.query(read_books_query)}\n",
        "\n",
        "    # Query for highly-rated books the user hasn't read\n",
        "    book_query = \"\"\"\n",
        "    PREFIX ns:<http://www.semanticweb.org/areej/ontologies/2024/10/Library-ontology-6#>\n",
        "\n",
        "    SELECT ?book ?rating\n",
        "    WHERE {\n",
        "        ?book ns:hasReview ?review .\n",
        "        ?review ns:hasRating ?rating .\n",
        "        FILTER (?rating >= \"\"\" + str(rating_threshold) + \"\"\")\n",
        "        FILTER (?book NOT IN (\"\"\" + \", \".join(f\"<{book}>\" for book in read_books) + \"\"\"))\n",
        "    }\n",
        "    \"\"\"\n",
        "    recommended_books = g.query(book_query)\n",
        "    return [(str(book[0]), float(book[1])) for book in recommended_books]"
      ],
      "metadata": {
        "id": "4w6_ha0ea0L9"
      },
      "execution_count": null,
      "outputs": []
    },
    {
      "cell_type": "code",
      "source": [
        "def recommend_books_based_on_reviews(user_id, review_threshold=4.0):\n",
        "    # Convert user_id to string in the query\n",
        "    # Query to fetch books the user has read\n",
        "    read_books_query = \"\"\"\n",
        "    PREFIX ns:<http://www.semanticweb.org/areej/ontologies/2024/10/Library-ontology-6#>\n",
        "\n",
        "    SELECT ?book\n",
        "    WHERE {\n",
        "        ?user ns:hasUserID \"\"\" + str(user_id) + \"\"\" .\n",
        "        ?user ns:hasRead ?book .  # Books the user has read\n",
        "    }\n",
        "    \"\"\"\n",
        "    read_books = {str(row[0]) for row in g.query(read_books_query)}\n",
        "    print(\"Books that user has read:\", read_books)\n",
        "\n",
        "    # If no books are read, return early\n",
        "    if not read_books:\n",
        "        print(\"No books found that the user has read.\")\n",
        "        return []\n",
        "\n",
        "    # Query to fetch all books\n",
        "    all_books_query = \"\"\"\n",
        "    PREFIX ns:<http://www.semanticweb.org/areej/ontologies/2024/10/Library-ontology-6#>\n",
        "\n",
        "    SELECT ?book\n",
        "    WHERE {\n",
        "        ?book a ns:Book .\n",
        "    }\n",
        "    \"\"\"\n",
        "    all_books = {str(row[0]) for row in g.query(all_books_query)}\n",
        "    print(\"All books in the library:\", all_books)\n",
        "\n",
        "    # Find books that the user has NOT read\n",
        "    unread_books = all_books - read_books\n",
        "    print(\"Unread books for user:\", unread_books)\n",
        "\n",
        "    # Query books with high reviews by other users\n",
        "    review_based_query = \"\"\"\n",
        "    PREFIX ns:<http://www.semanticweb.org/areej/ontologies/2024/10/Library-ontology-6#>\n",
        "\n",
        "    SELECT ?book ?review_rating\n",
        "    WHERE {\n",
        "        ?book ns:hasReview ?review .\n",
        "        ?review ns:hasRating ?review_rating .\n",
        "        FILTER (?review_rating >= \"\"\" + str(review_threshold) + \"\"\")\n",
        "        FILTER (?book IN (\"\"\" + \", \".join(f\"<{book}>\" for book in unread_books) + \"\"\"))\n",
        "    }\n",
        "    \"\"\"\n",
        "    reviewed_books = g.query(review_based_query)\n",
        "\n",
        "    # Check if there are any reviewed books\n",
        "    print(\"Reviewed books with high ratings:\", list(reviewed_books))\n",
        "\n",
        "    return [(str(book[0]), float(book[1])) for book in reviewed_books]"
      ],
      "metadata": {
        "id": "a8GNrSgEa6GM"
      },
      "execution_count": null,
      "outputs": []
    },
    {
      "cell_type": "code",
      "source": [
        "# Define the user you want recommendations for\n",
        "user_id = 1\n",
        "\n",
        "# Get genre-based recommendations\n",
        "genre_recommendations = recommend_books_by_genre(user_id)\n",
        "print(\"Recommendations based on preferred genres:\", genre_recommendations)\n",
        "\n",
        "# Get recommendations for highly-rated unread books\n",
        "rating_recommendations = recommend_highly_rated_books(user_id, rating_threshold=4.0)\n",
        "print(\"Recommendations based on high ratings:\", rating_recommendations)\n",
        "\n",
        "# Get recommendations based on other users' reviews\n",
        "review_recommendations = recommend_books_based_on_reviews(user_id, review_threshold=4.0)\n",
        "print(\"Recommendations based on other users' reviews:\", review_recommendations)"
      ],
      "metadata": {
        "colab": {
          "base_uri": "https://localhost:8080/"
        },
        "id": "064lhAUWbXSI",
        "outputId": "fb920e02-93fa-4cc9-84b1-621d6b4f1ddd"
      },
      "execution_count": null,
      "outputs": [
        {
          "output_type": "stream",
          "name": "stdout",
          "text": [
            "Preferred genres: ['http://www.semanticweb.org/areej/ontologies/2024/10/Library-ontology-6#Genre1-1']\n",
            "Recommendations based on preferred genres: [('http://www.semanticweb.org/areej/ontologies/2024/10/Library-ontology-6#Book1', 'http://www.semanticweb.org/areej/ontologies/2024/10/Library-ontology-6#Genre1-1'), ('http://www.semanticweb.org/areej/ontologies/2024/10/Library-ontology-6#Book4', 'http://www.semanticweb.org/areej/ontologies/2024/10/Library-ontology-6#Genre1-1'), ('http://www.semanticweb.org/areej/ontologies/2024/10/Library-ontology-6#Book5', 'http://www.semanticweb.org/areej/ontologies/2024/10/Library-ontology-6#Genre1-1')]\n",
            "Recommendations based on high ratings: [('http://www.semanticweb.org/areej/ontologies/2024/10/Library-ontology-6#Book3', 4.0)]\n",
            "Books that user has read: {'http://www.semanticweb.org/areej/ontologies/2024/10/Library-ontology-6#Book1', 'http://www.semanticweb.org/areej/ontologies/2024/10/Library-ontology-6#Book2'}\n",
            "All books in the library: {'http://www.semanticweb.org/areej/ontologies/2024/10/Library-ontology-6#Book5', 'http://www.semanticweb.org/areej/ontologies/2024/10/Library-ontology-6#Book6', 'http://www.semanticweb.org/areej/ontologies/2024/10/Library-ontology-6#Book3', 'http://www.semanticweb.org/areej/ontologies/2024/10/Library-ontology-6#Book1', 'http://www.semanticweb.org/areej/ontologies/2024/10/Library-ontology-6#Book4', 'http://www.semanticweb.org/areej/ontologies/2024/10/Library-ontology-6#Book2'}\n",
            "Unread books for user: {'http://www.semanticweb.org/areej/ontologies/2024/10/Library-ontology-6#Book5', 'http://www.semanticweb.org/areej/ontologies/2024/10/Library-ontology-6#Book4', 'http://www.semanticweb.org/areej/ontologies/2024/10/Library-ontology-6#Book6', 'http://www.semanticweb.org/areej/ontologies/2024/10/Library-ontology-6#Book3'}\n",
            "Reviewed books with high ratings: [(rdflib.term.URIRef('http://www.semanticweb.org/areej/ontologies/2024/10/Library-ontology-6#Book3'), rdflib.term.Literal('4.0', datatype=rdflib.term.URIRef('http://www.w3.org/2001/XMLSchema#decimal')))]\n",
            "Recommendations based on other users' reviews: [('http://www.semanticweb.org/areej/ontologies/2024/10/Library-ontology-6#Book3', 4.0)]\n"
          ]
        }
      ]
    }
  ]
}